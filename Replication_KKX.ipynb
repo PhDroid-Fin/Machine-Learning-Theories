{
  "nbformat": 4,
  "nbformat_minor": 0,
  "metadata": {
    "colab": {
      "name": "Replication KKX.ipynb",
      "provenance": [],
      "collapsed_sections": [],
      "authorship_tag": "ABX9TyNVFIv+2SABqIHkwgzic+rI",
      "include_colab_link": true
    },
    "kernelspec": {
      "name": "python3",
      "display_name": "Python 3"
    }
  },
  "cells": [
    {
      "cell_type": "markdown",
      "metadata": {
        "id": "view-in-github",
        "colab_type": "text"
      },
      "source": [
        "<a href=\"https://colab.research.google.com/github/PhDroid-Fin/Machine-Learning-Theories/blob/master/Replication_KKX.ipynb\" target=\"_parent\"><img src=\"https://colab.research.google.com/assets/colab-badge.svg\" alt=\"Open In Colab\"/></a>"
      ]
    },
    {
      "cell_type": "markdown",
      "metadata": {
        "id": "1u8zIUfzScM3",
        "colab_type": "text"
      },
      "source": [
        "# Replicating KKX paper\n"
      ]
    },
    {
      "cell_type": "markdown",
      "metadata": {
        "id": "qM9MnCGR1RBy",
        "colab_type": "text"
      },
      "source": [
        "## Model Structure"
      ]
    },
    {
      "cell_type": "markdown",
      "metadata": {
        "id": "9BNEH2bJzEMP",
        "colab_type": "text"
      },
      "source": [
        "![alt text](https://drive.google.com/uc?id=1alAHl5UwnMLQ4Q7CpuMduKfJl4M34mwJ)\n",
        "<p align=\"center\">"
      ]
    },
    {
      "cell_type": "markdown",
      "metadata": {
        "id": "_O7o5i6v71ye",
        "colab_type": "text"
      },
      "source": [
        "## 0. Environment Setup\n",
        "\n",
        "\n",
        "\n",
        "\n"
      ]
    },
    {
      "cell_type": "code",
      "metadata": {
        "id": "r59OhK0MSvRr",
        "colab_type": "code",
        "colab": {}
      },
      "source": [
        "# Simulation and IS estimation\n",
        "import numpy as np\n",
        "from matplotlib import pyplot as plt\n",
        "import pandas as pd\n",
        "from itertools import compress # for extracting elements based on boolean indices\n",
        "# OOS prediction\n",
        "import cvxopt\n",
        "from cvxopt import solvers, matrix # website for operation documentation: https://cvxopt.org/userguide/matrices.html\n",
        "import pdb\n",
        "from scipy import stats"
      ],
      "execution_count": 0,
      "outputs": []
    },
    {
      "cell_type": "markdown",
      "metadata": {
        "id": "I__h3I511d-x",
        "colab_type": "text"
      },
      "source": [
        "## 1. Simulation\n"
      ]
    },
    {
      "cell_type": "markdown",
      "metadata": {
        "id": "7_tPlovh8lWm",
        "colab_type": "text"
      },
      "source": [
        "We assume the data generating process of the positive, negative, and neutral words in each article follows:\n",
        "$$\n",
        "d_{i,[S]} \\sim \\text{Multinomial}(s_i, p_i O_{+}+(1-p)O_{-})\\\\\n",
        "d_{i,[N]} \\sim \\text{Multinomial}(n_i, O_0)\n",
        "$$\n",
        "where $p_i \\sim \\text{Unif}(0,1), s_i \\sim \\text{Unif}(0,2\\bar{s}), n_i \\sim \\text{Unif}(0,2\\bar{n})$, and for $j = 1,2,...,|S|,$\n",
        "$$\n",
        "O_{+,j} = \\frac{2}{|S|}(1-\\frac{j}{|S|})^2 + \\frac{2}{3|S|}\\times 1_{\\{j<\\frac{|S|}{2}\\}} \\\\\n",
        "O_{-,j} = \\frac{2}{|S|}(\\frac{j}{|S|})^2 + \\frac{2}{3|S|}\\times 1_{\\{j\\geq \\frac{|S|}{2}\\}}\n",
        "$$ \n",
        "and $O_{0,j}$ is drawn from $\\frac{1}{m-|S|}\\text{Unif}(0,2)$, for $j = |S|+1,...,m$, then renormalized such that $\\sum_j O_{0,j}=1$.\n",
        "\n",
        "Next, the sign of returns follows a logistic regression model: $P(y_i > 0) = p_i$, and its magnitude $|y_i|$ follows a standard Student $t$-distribution with the degree of freedom parameter set at $4$. The standard deviation of the $t$-distribution has negligible effects on our simulations, since only the ranks of returns matter.\n",
        "\n",
        "We fix the number of Monte Carlo repetitions $Mc = 200$ and the number of articles in the testing sample is $1,000$. In the benchmark case, we set $|S| = 100, m = 500, n = 10,000, \\bar{s} = 10, \\bar{n } = 100$."
      ]
    },
    {
      "cell_type": "markdown",
      "metadata": {
        "id": "RaEydh0bQiOo",
        "colab_type": "text"
      },
      "source": [
        "### 1.1 Define simulation function: `sim_article(S_norm,m,n,s_bar,n_bar)`"
      ]
    },
    {
      "cell_type": "code",
      "metadata": {
        "id": "1X6Rx4YMD6q9",
        "colab_type": "code",
        "colab": {}
      },
      "source": [
        "#------ The following is based on a single stock ------#\n",
        "def sim_article(S_norm,m,n,s_bar,n_bar,seed_val):\n",
        "  # Parameter setup\n",
        "  np.random.seed(seed_val) # set random seed so that results are replicatable\n",
        "  # create word list\n",
        "  pos_list = []\n",
        "  neg_list = []\n",
        "  neu_list = []\n",
        "  for ele in range(int(S_norm/2)):\n",
        "    if ele < 10:\n",
        "      temp_pos = 'A_positive_0'+str(ele)\n",
        "    else:\n",
        "      temp_pos = 'A_positive_'+str(ele)\n",
        "    pos_list.append(temp_pos)\n",
        "    if ele < 10:\n",
        "      temp_neg = 'B_negative_0'+str(ele)\n",
        "    else:\n",
        "      temp_neg = 'B_negative_'+str(ele)\n",
        "    neg_list.append(temp_neg)\n",
        "  for ele in range(m-S_norm):\n",
        "    if ele < 10:\n",
        "      temp_neu = 'C_neutral_0'+str(ele)\n",
        "    else:\n",
        "      temp_neu = 'C_neutral_'+str(ele)\n",
        "    neu_list.append(temp_neu)\n",
        "  sen_list = np.concatenate((pos_list,neg_list))\n",
        "\n",
        "  # create random variables\n",
        "  # create O_{+,j} and O_{-,j}\n",
        "  O_plus = np.zeros((S_norm,1))\n",
        "  O_minus = np.zeros((S_norm,1))\n",
        "  for ele in range(S_norm):\n",
        "      j = ele+1\n",
        "      if j < int(S_norm/2):\n",
        "          O_plus[ele] = 2/S_norm*(1-j/S_norm)**2+2/(3*S_norm)\n",
        "          O_minus[ele] = 2/S_norm*(j/S_norm)**2\n",
        "      else:\n",
        "          O_plus[ele] = 2/S_norm*(1-j/S_norm)**2\n",
        "          O_minus[ele] = 2/S_norm*(j/S_norm)**2+2/(3*S_norm)\n",
        "  O_zero = np.zeros((m-S_norm,1))\n",
        "  O_zero = 1/(m-S_norm)*np.random.uniform(0,2,m-S_norm) #low,high,size\n",
        "  O_zero = O_zero/np.sum(O_zero) # renormalized to have prob sum = 1\n",
        "\n",
        "  # DGP of pos, neg and neu words in each article i\n",
        "  # 1.1 P(y_i>0) = p_i\n",
        "  p_i = np.random.uniform(0,1,n)\n",
        "  # 1.2 total counts of sentimental words in article i\n",
        "  s_i = np.random.uniform(0,2*s_bar,n)\n",
        "  # 1.3 total counts of neutral words in article i\n",
        "  n_i = np.random.uniform(0,2*n_bar,n)\n",
        "  # 2.1 sentimental words DGP\n",
        "  d_S = []\n",
        "  d_N = []\n",
        "  for i in range(n):\n",
        "    prob_temp = p_i[i]*O_plus+(1-p_i[i])*O_minus\n",
        "    res_temp = np.random.multinomial(s_i[i],prob_temp)\n",
        "    d_S = np.concatenate((d_S,res_temp))\n",
        "    prob_temp = O_zero\n",
        "    res_temp = np.random.multinomial(n_i[i],prob_temp)\n",
        "    d_N = np.concatenate((d_N,res_temp))\n",
        "  d_S = d_S.reshape(n,S_norm) \n",
        "  d_N = d_N.reshape(n,m-S_norm) \n",
        "  d_S = d_S.astype(int)\n",
        "  d_N = d_N.astype(int)\n",
        "\n",
        "  # create returns y_i using p_i; sgn(y_i) follows a logistic model ???\n",
        "  y_sgn = 2*np.random.binomial(1,p_i,n)-1  # p_i already given, should be a binomial model\n",
        "  y_mag = abs(np.random.standard_t(4,n))      # Student t with df = 4\n",
        "  y_i = np.multiply(y_sgn,y_mag)\n",
        "\n",
        "  # create n articles with given distribution of words\n",
        "  # print('sen words list',sen_list)\n",
        "  # print('neu words list',neu_list)\n",
        "  # print('d_S',d_S)\n",
        "  # print('d_N',d_N)\n",
        "  article = []\n",
        "  an_article = []\n",
        "  for i in range(n):\n",
        "    # print('-'*30,'i=',i,'-'*30)\n",
        "    freq_S = d_S[i,]\n",
        "    freq_N = d_N[i,]\n",
        "    an_article_S = [[sen_list[j]]*freq_S[j] for j in range(len(sen_list))] # repeat words with given frequency\n",
        "    an_article_N = [[neu_list[j]]*freq_N[j] for j in range(len(neu_list))] # repeat words with given frequency\n",
        "    an_article = an_article_S+an_article_N\n",
        "    # print('*'*10)\n",
        "    # print('words in article ',i,' is ',an_article)\n",
        "    # print(len(an_article))\n",
        "    an_article = [item for sublist in an_article for item in sublist]\n",
        "    # print('flattened article is ',an_article)\n",
        "    # print(len(an_article))\n",
        "    article = article+[an_article]\n",
        "  # print('-'*30,'end of loop','-'*30)\n",
        "  # print(article)\n",
        "  # print('Is n equal to the number of lists?',len(article)==n)\n",
        "\n",
        "  return article, y_i, p_i, O_plus, O_minus, s_i, d_S"
      ],
      "execution_count": 0,
      "outputs": []
    },
    {
      "cell_type": "markdown",
      "metadata": {
        "id": "4p5jfmmUQstL",
        "colab_type": "text"
      },
      "source": [
        "### 1.2 Generate Simulation Data"
      ]
    },
    {
      "cell_type": "code",
      "metadata": {
        "id": "eIt-YUtytTk3",
        "colab_type": "code",
        "colab": {}
      },
      "source": [
        "#------------------------  Simulate the data  ----------------------------#\n",
        "# random seed\n",
        "seed_val = 0\n",
        "# number of sentimental words\n",
        "S_norm = 100\n",
        "# number of total words\n",
        "m = 500\n",
        "# number of articles\n",
        "n = 10000\n",
        "# distribution parameters\n",
        "s_bar = 10 # change of here\n",
        "n_bar = 100\n",
        "# observe simulation data\n",
        "article, y_i, p_i, O_plus, O_minus, s_i, d_S = sim_article(S_norm,m,n,s_bar,n_bar,seed_val)"
      ],
      "execution_count": 0,
      "outputs": []
    },
    {
      "cell_type": "markdown",
      "metadata": {
        "id": "RJXlGRNvR_Tg",
        "colab_type": "text"
      },
      "source": [
        "## 2. In-sample Estimation\n"
      ]
    },
    {
      "cell_type": "markdown",
      "metadata": {
        "id": "8w-vodGq1mmJ",
        "colab_type": "text"
      },
      "source": [
        "### 2.1 Data Praparation\n"
      ]
    },
    {
      "cell_type": "markdown",
      "metadata": {
        "id": "fhOa--BwtO1k",
        "colab_type": "text"
      },
      "source": [
        "As an econometrician, we are able to observe the following data of a single stock:\n",
        "1. Stock returns stamped with article $i$:\n",
        "$$\n",
        "  y_i,  \\ \\ \\ \\ \\ \\  i = 1,...,n\n",
        "$$\n",
        "2. Word counts vector of articles associated with returns:\n",
        "$$\n",
        "  D = [d_1,...,d_n], \\\\\n",
        "  d_i = \n",
        "  \\begin{bmatrix}\n",
        "    d_{i,1} \\\\\n",
        "    \\vdots \\\\\n",
        "    d_{i,m}\n",
        "  \\end{bmatrix}\n",
        "$$\n",
        "And to gain $m\\times n$ matrix $D$ we need to convert articles into the vector of word counts"
      ]
    },
    {
      "cell_type": "code",
      "metadata": {
        "id": "arJQcmB5RXML",
        "colab_type": "code",
        "colab": {}
      },
      "source": [
        "#------------------------  Prepare the data  ----------------------------#\n",
        "# feel the data\n",
        "# print('article data: \\n',article)\n",
        "# print('return data, y_i: \\n',y_i)\n",
        "\n",
        "# create word count matrix D\n",
        "#1.flatten article\n",
        "article_flat = [item for sublist in article for item in sublist]\n",
        "#2.collect unique words and order them\n",
        "word_uniq = list(set(article_flat))  # Sets are unordered collections of distinct objects\n",
        "word_uniq.sort()\n",
        "#3.create dictionary\n",
        "D_dic = []\n",
        "for i in range(len(article)):\n",
        "  temp = {ele:article[i].count(ele) for ele in word_uniq}\n",
        "  D_dic.append(temp)\n",
        "# print(D_dic)\n",
        "#4.create word count matrix D\n",
        "D = []\n",
        "for i in range(len(article)):\n",
        "  temp = [article[i].count(ele) for ele in word_uniq]\n",
        "  D = np.concatenate((D,temp))\n",
        "D = D.reshape(n,len(word_uniq)) # D is the word count matrix with dimension n by m"
      ],
      "execution_count": 0,
      "outputs": []
    },
    {
      "cell_type": "code",
      "metadata": {
        "id": "szjGyxcUeejH",
        "colab_type": "code",
        "outputId": "b2553a16-494a-4368-b21e-df9fc1ad9899",
        "colab": {
          "base_uri": "https://localhost:8080/",
          "height": 598
        }
      },
      "source": [
        "#------------------------  Descriptive analysis  ----------------------------#\n",
        "# 1. check simulated data\n",
        "print('The unique words of all articles are:\\n {} \\n'.format(word_uniq) )\n",
        "print('There are ', len(article), ' articles and ',len(word_uniq), ' unique words in totoal.\\n')\n",
        "print('The D[0] matrix is:\\n',D[0])\n",
        "print('The dS[0] matrix is:\\n',D[0][0:100])\n",
        "# i = 0\n",
        "# print('Sentimental word count vector of the {}th article: \\n {}'.format(i+1,D[i,0:S_norm]))\n",
        "# check if tone predicts the return sign\n",
        "# ret_sgn = np.sign(y_i)\n",
        "# num_pos = [np.sum(D[i,0:int(S_norm/2)]) for i in range(len(article))]\n",
        "# num_neg = [np.sum(D[i,int(S_norm/2):S_norm]) for i in range(len(article))]\n",
        "# print('Number of positive words of the {}th article: \\n {}'.format(i+1,num_pos))\n",
        "# print('Number of negative words of the {}th article: \\n {}'.format(i+1,num_neg))\n",
        "# print('Number of net positive words of the {}th article: \\n {}'.format(i+1,num_pos-num_neg))\n",
        "# print('Return sign labled with the {} article is: \\n {}'.format(i+1, ret_sgn))\n",
        "# tone = np.array(num_pos) - np.array(num_neg)\n"
      ],
      "execution_count": 32,
      "outputs": [
        {
          "output_type": "stream",
          "text": [
            "The unique words of all articles are:\n",
            " ['A_positive_00', 'A_positive_01', 'A_positive_02', 'A_positive_03', 'A_positive_04', 'A_positive_05', 'A_positive_06', 'A_positive_07', 'A_positive_08', 'A_positive_09', 'A_positive_10', 'A_positive_11', 'A_positive_12', 'A_positive_13', 'A_positive_14', 'A_positive_15', 'A_positive_16', 'A_positive_17', 'A_positive_18', 'A_positive_19', 'A_positive_20', 'A_positive_21', 'A_positive_22', 'A_positive_23', 'A_positive_24', 'A_positive_25', 'A_positive_26', 'A_positive_27', 'A_positive_28', 'A_positive_29', 'A_positive_30', 'A_positive_31', 'A_positive_32', 'A_positive_33', 'A_positive_34', 'A_positive_35', 'A_positive_36', 'A_positive_37', 'A_positive_38', 'A_positive_39', 'A_positive_40', 'A_positive_41', 'A_positive_42', 'A_positive_43', 'A_positive_44', 'A_positive_45', 'A_positive_46', 'A_positive_47', 'A_positive_48', 'A_positive_49', 'B_negative_00', 'B_negative_01', 'B_negative_02', 'B_negative_03', 'B_negative_04', 'B_negative_05', 'B_negative_06', 'B_negative_07', 'B_negative_08', 'B_negative_09', 'B_negative_10', 'B_negative_11', 'B_negative_12', 'B_negative_13', 'B_negative_14', 'B_negative_15', 'B_negative_16', 'B_negative_17', 'B_negative_18', 'B_negative_19', 'B_negative_20', 'B_negative_21', 'B_negative_22', 'B_negative_23', 'B_negative_24', 'B_negative_25', 'B_negative_26', 'B_negative_27', 'B_negative_28', 'B_negative_29', 'B_negative_30', 'B_negative_31', 'B_negative_32', 'B_negative_33', 'B_negative_34', 'B_negative_35', 'B_negative_36', 'B_negative_37', 'B_negative_38', 'B_negative_39', 'B_negative_40', 'B_negative_41', 'B_negative_42', 'B_negative_43', 'B_negative_44', 'B_negative_45', 'B_negative_46', 'B_negative_47', 'B_negative_48', 'B_negative_49', 'C_neutral_00', 'C_neutral_01', 'C_neutral_02', 'C_neutral_03', 'C_neutral_04', 'C_neutral_05', 'C_neutral_06', 'C_neutral_07', 'C_neutral_08', 'C_neutral_09', 'C_neutral_10', 'C_neutral_100', 'C_neutral_101', 'C_neutral_102', 'C_neutral_103', 'C_neutral_104', 'C_neutral_105', 'C_neutral_106', 'C_neutral_107', 'C_neutral_108', 'C_neutral_109', 'C_neutral_11', 'C_neutral_110', 'C_neutral_111', 'C_neutral_112', 'C_neutral_113', 'C_neutral_114', 'C_neutral_115', 'C_neutral_116', 'C_neutral_117', 'C_neutral_118', 'C_neutral_119', 'C_neutral_12', 'C_neutral_120', 'C_neutral_121', 'C_neutral_122', 'C_neutral_123', 'C_neutral_124', 'C_neutral_125', 'C_neutral_126', 'C_neutral_127', 'C_neutral_128', 'C_neutral_129', 'C_neutral_13', 'C_neutral_130', 'C_neutral_131', 'C_neutral_132', 'C_neutral_133', 'C_neutral_134', 'C_neutral_135', 'C_neutral_136', 'C_neutral_137', 'C_neutral_138', 'C_neutral_139', 'C_neutral_14', 'C_neutral_140', 'C_neutral_141', 'C_neutral_142', 'C_neutral_143', 'C_neutral_144', 'C_neutral_145', 'C_neutral_146', 'C_neutral_147', 'C_neutral_148', 'C_neutral_149', 'C_neutral_15', 'C_neutral_150', 'C_neutral_151', 'C_neutral_152', 'C_neutral_153', 'C_neutral_154', 'C_neutral_155', 'C_neutral_156', 'C_neutral_157', 'C_neutral_158', 'C_neutral_159', 'C_neutral_16', 'C_neutral_160', 'C_neutral_161', 'C_neutral_162', 'C_neutral_163', 'C_neutral_164', 'C_neutral_165', 'C_neutral_166', 'C_neutral_167', 'C_neutral_168', 'C_neutral_169', 'C_neutral_17', 'C_neutral_170', 'C_neutral_171', 'C_neutral_172', 'C_neutral_173', 'C_neutral_174', 'C_neutral_175', 'C_neutral_176', 'C_neutral_177', 'C_neutral_178', 'C_neutral_179', 'C_neutral_18', 'C_neutral_180', 'C_neutral_181', 'C_neutral_182', 'C_neutral_183', 'C_neutral_184', 'C_neutral_185', 'C_neutral_186', 'C_neutral_187', 'C_neutral_188', 'C_neutral_189', 'C_neutral_19', 'C_neutral_190', 'C_neutral_191', 'C_neutral_192', 'C_neutral_193', 'C_neutral_194', 'C_neutral_195', 'C_neutral_196', 'C_neutral_197', 'C_neutral_198', 'C_neutral_199', 'C_neutral_20', 'C_neutral_200', 'C_neutral_201', 'C_neutral_202', 'C_neutral_203', 'C_neutral_204', 'C_neutral_205', 'C_neutral_206', 'C_neutral_207', 'C_neutral_208', 'C_neutral_209', 'C_neutral_21', 'C_neutral_210', 'C_neutral_211', 'C_neutral_212', 'C_neutral_213', 'C_neutral_214', 'C_neutral_215', 'C_neutral_216', 'C_neutral_217', 'C_neutral_218', 'C_neutral_219', 'C_neutral_22', 'C_neutral_220', 'C_neutral_221', 'C_neutral_222', 'C_neutral_223', 'C_neutral_224', 'C_neutral_225', 'C_neutral_226', 'C_neutral_227', 'C_neutral_228', 'C_neutral_229', 'C_neutral_23', 'C_neutral_230', 'C_neutral_231', 'C_neutral_232', 'C_neutral_233', 'C_neutral_234', 'C_neutral_235', 'C_neutral_236', 'C_neutral_237', 'C_neutral_238', 'C_neutral_239', 'C_neutral_24', 'C_neutral_240', 'C_neutral_241', 'C_neutral_242', 'C_neutral_243', 'C_neutral_244', 'C_neutral_245', 'C_neutral_246', 'C_neutral_247', 'C_neutral_248', 'C_neutral_249', 'C_neutral_25', 'C_neutral_250', 'C_neutral_251', 'C_neutral_252', 'C_neutral_253', 'C_neutral_254', 'C_neutral_255', 'C_neutral_256', 'C_neutral_257', 'C_neutral_258', 'C_neutral_259', 'C_neutral_26', 'C_neutral_260', 'C_neutral_261', 'C_neutral_262', 'C_neutral_263', 'C_neutral_264', 'C_neutral_265', 'C_neutral_266', 'C_neutral_267', 'C_neutral_268', 'C_neutral_269', 'C_neutral_27', 'C_neutral_270', 'C_neutral_271', 'C_neutral_272', 'C_neutral_273', 'C_neutral_274', 'C_neutral_275', 'C_neutral_276', 'C_neutral_277', 'C_neutral_278', 'C_neutral_279', 'C_neutral_28', 'C_neutral_280', 'C_neutral_281', 'C_neutral_282', 'C_neutral_283', 'C_neutral_284', 'C_neutral_285', 'C_neutral_286', 'C_neutral_287', 'C_neutral_288', 'C_neutral_289', 'C_neutral_29', 'C_neutral_290', 'C_neutral_291', 'C_neutral_292', 'C_neutral_293', 'C_neutral_294', 'C_neutral_295', 'C_neutral_296', 'C_neutral_297', 'C_neutral_298', 'C_neutral_299', 'C_neutral_30', 'C_neutral_300', 'C_neutral_301', 'C_neutral_302', 'C_neutral_303', 'C_neutral_304', 'C_neutral_305', 'C_neutral_306', 'C_neutral_307', 'C_neutral_308', 'C_neutral_309', 'C_neutral_31', 'C_neutral_310', 'C_neutral_311', 'C_neutral_312', 'C_neutral_313', 'C_neutral_314', 'C_neutral_315', 'C_neutral_316', 'C_neutral_317', 'C_neutral_318', 'C_neutral_319', 'C_neutral_32', 'C_neutral_320', 'C_neutral_321', 'C_neutral_322', 'C_neutral_323', 'C_neutral_324', 'C_neutral_325', 'C_neutral_326', 'C_neutral_327', 'C_neutral_328', 'C_neutral_329', 'C_neutral_33', 'C_neutral_330', 'C_neutral_331', 'C_neutral_332', 'C_neutral_333', 'C_neutral_334', 'C_neutral_335', 'C_neutral_336', 'C_neutral_337', 'C_neutral_338', 'C_neutral_339', 'C_neutral_34', 'C_neutral_340', 'C_neutral_341', 'C_neutral_342', 'C_neutral_343', 'C_neutral_344', 'C_neutral_345', 'C_neutral_346', 'C_neutral_347', 'C_neutral_348', 'C_neutral_349', 'C_neutral_35', 'C_neutral_350', 'C_neutral_351', 'C_neutral_352', 'C_neutral_353', 'C_neutral_354', 'C_neutral_355', 'C_neutral_356', 'C_neutral_357', 'C_neutral_358', 'C_neutral_359', 'C_neutral_36', 'C_neutral_360', 'C_neutral_361', 'C_neutral_362', 'C_neutral_363', 'C_neutral_364', 'C_neutral_365', 'C_neutral_366', 'C_neutral_367', 'C_neutral_368', 'C_neutral_369', 'C_neutral_37', 'C_neutral_370', 'C_neutral_371', 'C_neutral_372', 'C_neutral_373', 'C_neutral_374', 'C_neutral_375', 'C_neutral_376', 'C_neutral_377', 'C_neutral_378', 'C_neutral_379', 'C_neutral_38', 'C_neutral_380', 'C_neutral_381', 'C_neutral_382', 'C_neutral_383', 'C_neutral_384', 'C_neutral_385', 'C_neutral_386', 'C_neutral_387', 'C_neutral_388', 'C_neutral_389', 'C_neutral_39', 'C_neutral_390', 'C_neutral_391', 'C_neutral_392', 'C_neutral_393', 'C_neutral_394', 'C_neutral_395', 'C_neutral_396', 'C_neutral_397', 'C_neutral_398', 'C_neutral_399', 'C_neutral_40', 'C_neutral_41', 'C_neutral_42', 'C_neutral_43', 'C_neutral_44', 'C_neutral_45', 'C_neutral_46', 'C_neutral_47', 'C_neutral_48', 'C_neutral_49', 'C_neutral_50', 'C_neutral_51', 'C_neutral_52', 'C_neutral_53', 'C_neutral_54', 'C_neutral_55', 'C_neutral_56', 'C_neutral_57', 'C_neutral_58', 'C_neutral_59', 'C_neutral_60', 'C_neutral_61', 'C_neutral_62', 'C_neutral_63', 'C_neutral_64', 'C_neutral_65', 'C_neutral_66', 'C_neutral_67', 'C_neutral_68', 'C_neutral_69', 'C_neutral_70', 'C_neutral_71', 'C_neutral_72', 'C_neutral_73', 'C_neutral_74', 'C_neutral_75', 'C_neutral_76', 'C_neutral_77', 'C_neutral_78', 'C_neutral_79', 'C_neutral_80', 'C_neutral_81', 'C_neutral_82', 'C_neutral_83', 'C_neutral_84', 'C_neutral_85', 'C_neutral_86', 'C_neutral_87', 'C_neutral_88', 'C_neutral_89', 'C_neutral_90', 'C_neutral_91', 'C_neutral_92', 'C_neutral_93', 'C_neutral_94', 'C_neutral_95', 'C_neutral_96', 'C_neutral_97', 'C_neutral_98', 'C_neutral_99'] \n",
            "\n",
            "There are  10000  articles and  500  unique words in totoal.\n",
            "\n",
            "The D[0] matrix is:\n",
            " [0. 0. 0. 0. 0. 0. 0. 1. 0. 0. 0. 0. 0. 0. 0. 0. 0. 0. 1. 0. 0. 0. 0. 0.\n",
            " 0. 0. 1. 0. 0. 0. 0. 0. 0. 0. 0. 0. 0. 0. 0. 1. 0. 0. 0. 1. 0. 0. 0. 1.\n",
            " 0. 0. 0. 0. 1. 1. 0. 0. 0. 0. 0. 0. 0. 0. 0. 0. 0. 0. 1. 1. 0. 1. 0. 0.\n",
            " 0. 0. 0. 0. 0. 0. 0. 0. 0. 0. 0. 0. 1. 0. 0. 0. 0. 0. 0. 1. 0. 0. 0. 0.\n",
            " 2. 0. 0. 0. 0. 0. 0. 0. 0. 0. 0. 1. 0. 0. 0. 1. 0. 0. 0. 0. 0. 1. 0. 0.\n",
            " 1. 0. 0. 0. 1. 0. 1. 2. 0. 0. 1. 0. 2. 0. 2. 0. 1. 0. 1. 0. 1. 0. 1. 1.\n",
            " 0. 1. 0. 0. 1. 1. 0. 0. 0. 1. 0. 1. 0. 0. 0. 1. 0. 0. 1. 0. 3. 0. 1. 0.\n",
            " 1. 1. 0. 0. 3. 0. 1. 0. 0. 0. 0. 0. 0. 3. 0. 0. 1. 1. 0. 0. 3. 0. 0. 0.\n",
            " 0. 0. 0. 0. 1. 0. 0. 0. 0. 1. 0. 1. 1. 1. 1. 2. 0. 1. 1. 0. 0. 1. 2. 1.\n",
            " 0. 0. 0. 1. 0. 1. 0. 0. 0. 0. 0. 1. 0. 0. 1. 1. 1. 2. 1. 1. 0. 0. 0. 1.\n",
            " 2. 1. 0. 0. 0. 0. 0. 0. 0. 0. 0. 0. 0. 0. 0. 0. 1. 0. 0. 0. 0. 0. 1. 0.\n",
            " 0. 1. 0. 2. 0. 1. 1. 0. 0. 0. 0. 0. 0. 1. 2. 1. 0. 0. 3. 0. 2. 0. 0. 0.\n",
            " 1. 0. 2. 0. 0. 1. 0. 0. 0. 1. 2. 1. 0. 0. 1. 0. 1. 0. 0. 1. 1. 0. 0. 1.\n",
            " 0. 1. 0. 0. 0. 1. 1. 1. 0. 0. 1. 0. 1. 0. 0. 0. 0. 0. 0. 0. 0. 0. 0. 0.\n",
            " 0. 0. 0. 1. 0. 1. 0. 0. 1. 0. 1. 0. 0. 0. 0. 0. 0. 0. 0. 0. 0. 0. 0. 1.\n",
            " 0. 0. 0. 0. 3. 1. 0. 1. 0. 1. 1. 0. 0. 0. 0. 1. 0. 0. 0. 0. 0. 0. 1. 0.\n",
            " 2. 1. 0. 0. 0. 0. 0. 0. 0. 0. 0. 1. 0. 1. 0. 0. 0. 2. 0. 0. 1. 1. 2. 0.\n",
            " 0. 0. 0. 0. 0. 0. 1. 0. 0. 1. 1. 0. 0. 2. 1. 0. 2. 1. 1. 0. 0. 0. 0. 0.\n",
            " 0. 3. 0. 0. 0. 0. 0. 2. 0. 2. 1. 0. 0. 1. 0. 0. 0. 0. 1. 0. 0. 0. 0. 0.\n",
            " 0. 0. 0. 1. 0. 0. 0. 0. 0. 0. 1. 0. 0. 0. 3. 0. 0. 1. 0. 0. 1. 0. 0. 0.\n",
            " 0. 0. 0. 0. 2. 1. 0. 0. 1. 0. 0. 2. 0. 1. 0. 1. 0. 0. 0. 0.]\n",
            "The dS[0] matrix is:\n",
            " [0. 0. 0. 0. 0. 0. 0. 1. 0. 0. 0. 0. 0. 0. 0. 0. 0. 0. 1. 0. 0. 0. 0. 0.\n",
            " 0. 0. 1. 0. 0. 0. 0. 0. 0. 0. 0. 0. 0. 0. 0. 1. 0. 0. 0. 1. 0. 0. 0. 1.\n",
            " 0. 0. 0. 0. 1. 1. 0. 0. 0. 0. 0. 0. 0. 0. 0. 0. 0. 0. 1. 1. 0. 1. 0. 0.\n",
            " 0. 0. 0. 0. 0. 0. 0. 0. 0. 0. 0. 0. 1. 0. 0. 0. 0. 0. 0. 1. 0. 0. 0. 0.\n",
            " 2. 0. 0. 0.]\n"
          ],
          "name": "stdout"
        }
      ]
    },
    {
      "cell_type": "markdown",
      "metadata": {
        "id": "vX29E6co1q52",
        "colab_type": "text"
      },
      "source": [
        "### 2.2 Isolate $S$ via Algorithm 1\n"
      ]
    },
    {
      "cell_type": "markdown",
      "metadata": {
        "id": "9lrkRVnn8Qm3",
        "colab_type": "text"
      },
      "source": [
        "S1. For each word $1\\leq j \\leq m$ ,let\n",
        "$$\n",
        "f_j = \\frac{\\text{# articles including word $j$ AND having sgn(y) = 1}}{\n",
        "\\text{# articles including word $j$}}\n",
        "$$\n",
        "\n",
        "S2. For a proper threshold $\\alpha_+ > 0, \\alpha_− > 0$, and $\\kappa > 0$ to be determined, construct\n",
        "$$\n",
        "\\hat{S}=\\{j :f_j \\geq 1/2+\\alpha_+\\} \\cup \\{j :f_j \\leq 1/2−\\alpha_−\\}\\cap\\{j :k_j \\geq \\kappa\\},\n",
        "$$\n",
        "where $k_j$ is the total count of articles in which word $j$ appears."
      ]
    },
    {
      "cell_type": "code",
      "metadata": {
        "id": "EYY99ul_Yhe3",
        "colab_type": "code",
        "colab": {}
      },
      "source": [
        "#1 create f_j and k_j\n",
        "#1.1 create f_j\n",
        "dmy_word_j = [D.T[j]>0 for j in range(len(word_uniq))]\n",
        "y_sgn = y_i>0\n",
        "# print('sgn(y)      ',np.array(y_sgn))\n",
        "# print('dummy_word_j',np.array(D.T[j]>0))\n",
        "# print(np.array(D.T[j]>0) & np.array(y_sgn))\n",
        "dmy_word_j_and_sgn_plus = [np.array(D.T[j]>0) & np.array(y_sgn) for j in range(len(word_uniq))]\n",
        "# print(dmy_word_j)\n",
        "# print(dmy_word_j_and_sgn_plus)\n",
        "f_j = [np.sum(dmy_word_j_and_sgn_plus[j])/np.sum(dmy_word_j[j]) for j in range(len(word_uniq))]\n",
        "# print('f_j is \\n',f_j)\n",
        "#1.2 create k_j\n",
        "k_j = [np.sum(dmy_word_j[j]) for j in range(len(word_uniq))]\n",
        "# print('k_j is \\n',k_j)\n",
        "# print(word_uniq)\n",
        "\n",
        "#2 create S_hat \n",
        "#2.1 create criterion for f_j\n",
        "f_j_crit = np.logical_or(np.array(f_j)>np.quantile(f_j,.9),np.array(f_j)<np.quantile(f_j,.1))\n",
        "#2.2 create criterion for k_j\n",
        "k_j_crit = k_j > np.quantile(k_j, .1)\n",
        "# print(k_j_crit)\n",
        "#2.3 create S_hat\n",
        "S_crit = np.logical_and(f_j_crit,k_j_crit)\n",
        "S_hat = list(compress(word_uniq, S_crit))\n"
      ],
      "execution_count": 0,
      "outputs": []
    },
    {
      "cell_type": "code",
      "metadata": {
        "id": "jXxpk3ISvdiH",
        "colab_type": "code",
        "colab": {
          "base_uri": "https://localhost:8080/",
          "height": 190
        },
        "outputId": "b54151f7-0d0a-4b99-9ed6-f4b5763989a2"
      },
      "source": [
        "#------------------------  Descriptive analysis  ----------------------------#\n",
        "# check S_hat\n",
        "print('-'*30)\n",
        "print('S_hat should collect only sentimental words, if criteria for f_j and k_j are reasonable')\n",
        "print('-'*30)\n",
        "print('The number of sentimental words in S_hat is: \\n {}(True number is {})'.format(np.sum(S_crit),S_norm) )\n",
        "print('Sentimental words in S_hat are: \\n {}'.format(S_hat))\n",
        "ind_neu = ['neu' in ele for ele in S_hat]\n",
        "print('Does S_hat contain neutral words? \\n {}'.format(np.sum(ind_neu)>0))"
      ],
      "execution_count": 34,
      "outputs": [
        {
          "output_type": "stream",
          "text": [
            "------------------------------\n",
            "S_hat should collect only sentimental words, if criteria for f_j and k_j are reasonable\n",
            "------------------------------\n",
            "The number of sentimental words in S_hat is: \n",
            " 94(True number is 100)\n",
            "Sentimental words in S_hat are: \n",
            " ['A_positive_00', 'A_positive_01', 'A_positive_02', 'A_positive_03', 'A_positive_04', 'A_positive_05', 'A_positive_06', 'A_positive_07', 'A_positive_08', 'A_positive_09', 'A_positive_10', 'A_positive_11', 'A_positive_12', 'A_positive_13', 'A_positive_14', 'A_positive_15', 'A_positive_16', 'A_positive_17', 'A_positive_18', 'A_positive_19', 'A_positive_20', 'A_positive_21', 'A_positive_22', 'A_positive_23', 'A_positive_24', 'A_positive_25', 'A_positive_26', 'A_positive_27', 'A_positive_28', 'A_positive_29', 'A_positive_30', 'A_positive_31', 'A_positive_32', 'A_positive_33', 'A_positive_34', 'A_positive_35', 'A_positive_36', 'A_positive_37', 'A_positive_38', 'A_positive_39', 'A_positive_40', 'A_positive_41', 'A_positive_42', 'A_positive_43', 'A_positive_44', 'A_positive_45', 'A_positive_46', 'A_positive_47', 'B_negative_01', 'B_negative_02', 'B_negative_04', 'B_negative_06', 'B_negative_07', 'B_negative_08', 'B_negative_09', 'B_negative_10', 'B_negative_11', 'B_negative_12', 'B_negative_13', 'B_negative_14', 'B_negative_15', 'B_negative_16', 'B_negative_17', 'B_negative_18', 'B_negative_19', 'B_negative_20', 'B_negative_21', 'B_negative_22', 'B_negative_23', 'B_negative_24', 'B_negative_25', 'B_negative_26', 'B_negative_27', 'B_negative_28', 'B_negative_29', 'B_negative_30', 'B_negative_31', 'B_negative_32', 'B_negative_33', 'B_negative_34', 'B_negative_35', 'B_negative_36', 'B_negative_37', 'B_negative_38', 'B_negative_39', 'B_negative_40', 'B_negative_41', 'B_negative_42', 'B_negative_43', 'B_negative_44', 'B_negative_45', 'B_negative_46', 'B_negative_47', 'B_negative_48']\n",
            "Does S_hat contain neutral words? \n",
            " False\n"
          ],
          "name": "stdout"
        }
      ]
    },
    {
      "cell_type": "markdown",
      "metadata": {
        "id": "kpR1HQ8D1vQF",
        "colab_type": "text"
      },
      "source": [
        "### 2.3 Estimate $O$ and $p_i$ via Algorithm 2\n"
      ]
    },
    {
      "cell_type": "markdown",
      "metadata": {
        "id": "aIQuZQyr8Tmy",
        "colab_type": "text"
      },
      "source": [
        "S1. Sort the returns $\\{y_i\\}^n_{i=1}$ in ascending order. For each $1 \\leq i \\leq n$, let \n",
        "$$\n",
        "\\hat{p}_i = \\frac{\\text{rank of } y_i \\text{ in all returns.}}{n}\n",
        "$$\n",
        "\n",
        "S2.For $1 \\leq i \\leq n$, let $\\hat{s}_i$ be the total counts of words from $S$ in article $i$, and let $\\hat{d}_i = \\hat{s}_i^{-1} d_{i,[\\hat{S}]}$ .\n",
        "\n",
        "Write $\\hat{D} = [\\hat{d}_1, \\hat{d}_2, . . . , \\hat{d}_n]$. Construct\n",
        "$$\n",
        "\\hat{O} = \\hat{D}\\hat{W}′(\\hat{W}\\hat{W}′)^{−1}, \\\\\n",
        "\\hat{W} = \\begin{bmatrix} \n",
        "          \\hat{p}_1 & \\hat{p}_2 & \\cdots & \\hat{p}_n \\\\\n",
        "          1-\\hat{p}_1 & 1-\\hat{p}_2 & \\cdots & 1-\\hat{p}_n\n",
        "          \\end{bmatrix}. \n",
        "$$\n",
        "Set negative entries of $\\hat{O}$ to zero and re-normalize each column to have a unit $l^1$-norm. We use the same notation $\\hat{O}$ for the resulting matrix. We also have $\\hat{O} = [\\hat{O}_+, \\hat{O}_−]$."
      ]
    },
    {
      "cell_type": "code",
      "metadata": {
        "id": "zJh5KL4c8Zdg",
        "colab_type": "code",
        "outputId": "d5e644d1-2d41-4b99-a01f-8fee6f80a25b",
        "colab": {
          "base_uri": "https://localhost:8080/",
          "height": 255
        }
      },
      "source": [
        "#1. estimate p_i\n",
        "#1.1 sort returns and get ranks\n",
        "ind = np.argsort(y_i)\n",
        "y_ordered = np.take_along_axis(y_i, ind, axis=None) \n",
        "y_ID_mixed = np.take_along_axis(np.arange(len(y_i)), ind, axis=None)\n",
        "ind_rev = np.argsort(y_ID_mixed)\n",
        "y_rank = np.take_along_axis(np.arange(len(y_i)), ind_rev, axis=None)\n",
        "# print(y_rank)\n",
        "#1.2 estimate p\n",
        "pi_hat = y_rank/len(y_i)\n",
        "# print(pi_hat)\n",
        "\n",
        "#2. estimate O\n",
        "#2.1 construct D_hat\n",
        "#2.1.1 construct d_iS\n",
        "d_iS_All = []\n",
        "for i in range(len(article)):\n",
        "  d_iS = [D[i][word_uniq.index(ele)] for ele in S_hat] # D is (n,m)\n",
        "  d_iS_All = np.concatenate((d_iS_All,d_iS))\n",
        "d_iS_All = d_iS_All.reshape((len(article),len(S_hat)))\n",
        "print(d_iS_All)\n",
        "#2.1.1 construct si_hat\n",
        "# print(d_iS[1])\n",
        "si_hat = [np.sum(d_iS_All[i]) for i in range(len(article))]\n",
        "si_hat = np.array(si_hat)\n",
        "si_hat = si_hat.reshape((n,1))\n",
        "print(si_hat)\n",
        "#2.1.2 construct D_hat: |S| by n\n",
        "D_hat = [d_iS_All[i]/si_hat[i] if si_hat[i]!= 0 else np.zeros((len(S_hat),)) for i in range(len(article))] # n by |S|\n",
        "D_hat = np.matrix(D_hat).T # |S| by n\n",
        "# print(D_hat)\n",
        "#2.2 construct W_hat: 2 by n\n",
        "W_hat = np.matrix([pi_hat,1-pi_hat])\n",
        "# print(W_hat)\n",
        "#2.3 estimate O = DW'(WW')^-1: |S| by 2\n",
        "O_hat = D_hat*W_hat.T*np.linalg.inv(W_hat*W_hat.T)\n",
        "O_hat[O_hat<0] =0 # set negative values to zero\n",
        "O_hat = O_hat/np.sum(O_hat,axis = 0) # re-normalize each column"
      ],
      "execution_count": 35,
      "outputs": [
        {
          "output_type": "stream",
          "text": [
            "[[0. 0. 0. ... 2. 0. 0.]\n",
            " [1. 1. 0. ... 0. 0. 0.]\n",
            " [0. 0. 0. ... 1. 0. 0.]\n",
            " ...\n",
            " [0. 0. 0. ... 0. 0. 0.]\n",
            " [0. 0. 0. ... 1. 0. 0.]\n",
            " [0. 0. 0. ... 0. 0. 0.]]\n",
            "[[14.]\n",
            " [11.]\n",
            " [10.]\n",
            " ...\n",
            " [14.]\n",
            " [15.]\n",
            " [ 7.]]\n"
          ],
          "name": "stdout"
        }
      ]
    },
    {
      "cell_type": "code",
      "metadata": {
        "id": "Po1p2jVfrDPQ",
        "colab_type": "code",
        "colab": {
          "base_uri": "https://localhost:8080/",
          "height": 408
        },
        "outputId": "e65f4d59-b3c8-4691-8557-7f86c1921b57"
      },
      "source": [
        "#------------------------  Descriptive analysis  ----------------------------#\n",
        "print('-'*30)\n",
        "print('For O_hat to behave reasonable, check if T = (O_+ - O_-) have predictive power over p_i')\n",
        "print('-'*30)\n",
        "# 1. T = O_plus - O_minus should >0 for positive words in S_hat\n",
        "T = O_hat[:,0] - O_hat[:,1]\n",
        "temp = T>0\n",
        "ind_T = [temp[i][0] == ['pos' in S_hat[i]] for i in range(len(S_hat))]\n",
        "print('Accuracy of T in selecting sentimental words is: \\n {}'.format(np.sum(ind_T)/len(ind_T)))\n",
        "\n",
        "# Debug check for pi_hat\n",
        "print('-'*30)\n",
        "print('pi_hat is constructed from y_i, so it should have large correlation with y_i.\\n\\\n",
        "Most importantly, if we see big positive correlation btw pi_hat and p_i, then pi_hat has predictive power over p_i, which is desired')\n",
        "print('-'*30)\n",
        "acc_p_y = np.sum(np.sign(pi_hat-.5)==np.sign(y_i))/len(p_i)\n",
        "print('{}> 0.5? {}'.format(acc_p_y,acc_p_y>.5))\n",
        "acc_p_p = np.sum(np.sign(pi_hat-.5)==np.sign(p_i-.5))/len(p_i)\n",
        "print('{}> 0.5? {}'.format(acc_p_p,acc_p_p>.5))\n",
        "print('Corr(pi_hat, p_i) = \\n {}'.format(np.corrcoef(pi_hat,p_i)))\n",
        "print('Corr(pi_hat, y_i) = \\n {}'.format(np.corrcoef(pi_hat,y_i)))\n",
        "print('Corr(sgn(pi_hat-0.5), sgn(p_i-0.5)) = \\n {}'.format(np.corrcoef(np.sign(pi_hat-.5),np.sign(p_i-.5))))\n",
        "print('Corr(sgn(pi_hat-0.5), sgn(y_i-0.5)) = \\n {}'.format(np.corrcoef(np.sign(pi_hat-.5),np.sign(y_i))))"
      ],
      "execution_count": 36,
      "outputs": [
        {
          "output_type": "stream",
          "text": [
            "------------------------------\n",
            "For O_hat to behave reasonable, check if T = (O_+ - O_-) have predictive power over p_i\n",
            "------------------------------\n",
            "Accuracy of T in selecting sentimental words is: \n",
            " 1.0\n",
            "------------------------------\n",
            "pi_hat is constructed from y_i, so it should have large correlation with y_i.\n",
            "Most importantly, if we see big positive correlation btw pi_hat and p_i, then pi_hat has predictive power over p_i, which is desired\n",
            "------------------------------\n",
            "0.9982> 0.5? True\n",
            "0.7481> 0.5? True\n",
            "Corr(pi_hat, p_i) = \n",
            " [[1.         0.49354061]\n",
            " [0.49354061 1.        ]]\n",
            "Corr(pi_hat, y_i) = \n",
            " [[1.         0.90592712]\n",
            " [0.90592712 1.        ]]\n",
            "Corr(sgn(pi_hat-0.5), sgn(p_i-0.5)) = \n",
            " [[1.         0.49639823]\n",
            " [0.49639823 1.        ]]\n",
            "Corr(sgn(pi_hat-0.5), sgn(y_i-0.5)) = \n",
            " [[1.         0.99655593]\n",
            " [0.99655593 1.        ]]\n"
          ],
          "name": "stdout"
        }
      ]
    },
    {
      "cell_type": "code",
      "metadata": {
        "id": "h0cgJTTRl0eO",
        "colab_type": "code",
        "colab": {
          "base_uri": "https://localhost:8080/",
          "height": 136
        },
        "outputId": "8f4a768b-de55-4e40-d0a1-dcb8d7b04e50"
      },
      "source": [
        "print('-'*30)\n",
        "print('There are cases where we see s_i = 0.\\n\\\n",
        "Since we have DGP: d_iS = MN(s_i, pi*O_plus + (1-pi)*O_minus), it means that either s_i~0 or pi*O_plus+(1-pi)*O_minus~0')\n",
        "print('-'*30)\n",
        "# count = 0\n",
        "# for i in range(len(article)):\n",
        "#   word_count = np.sum(D[i][0:S_norm])\n",
        "#   if word_count == 0:\n",
        "#     count += 1\n",
        "#     # print(D[i][0:S_norm])\n",
        "# print('{}/{} = {} have zero s_i'.format(count,len(article),count/len(article)))\n",
        "# s_i\n",
        "# print('Number of zero values of si_hat are: \\n {}'.format(np.sum(si_hat==0)))\n",
        "# print('Number of zero values of s_i (in MN r.v.) are: \\n {}'.format(np.sum(s_i==0)))\n",
        "count = 0\n",
        "for i in range(len(article)):\n",
        "  word_count = np.sum(d_S[i][0:S_norm])\n",
        "  if word_count == 0:\n",
        "    count += 1\n",
        "print('Number of zero values in d_S (DGP) are: \\n {}'.format(count))\n",
        "MN_prob = np.array([], dtype=np.int64).reshape(0,1)\n",
        "for i in range(n):\n",
        "  temp = p_i[i]*O_plus+(1-p_i[i])*O_minus\n",
        "  MN_prob = np.concatenate((MN_prob,temp))\n",
        "MN_zero = np.array([], dtype=np.int64).reshape(0,)\n",
        "for i in range(n):\n",
        "  if s_i[i]>0:\n",
        "    temp = MN_prob[i]\n",
        "    MN_zero = np.concatenate((MN_zero,temp))\n",
        "print(MN_zero)"
      ],
      "execution_count": 37,
      "outputs": [
        {
          "output_type": "stream",
          "text": [
            "------------------------------\n",
            "There are cases where we see s_i = 0.\n",
            "Since we have DGP: d_iS = MN(s_i, pi*O_plus + (1-pi)*O_minus), it means that either s_i~0 or pi*O_plus+(1-pi)*O_minus~0\n",
            "------------------------------\n",
            "Number of zero values in d_S (DGP) are: \n",
            " 552\n",
            "[0.01054175 0.01038725 0.01023674 ... 0.01278959 0.01298124 0.0131769 ]\n"
          ],
          "name": "stdout"
        }
      ]
    },
    {
      "cell_type": "code",
      "metadata": {
        "id": "4twvM2Pi70DX",
        "colab_type": "code",
        "colab": {
          "base_uri": "https://localhost:8080/",
          "height": 374
        },
        "outputId": "875f9b51-67d7-424f-99cc-4315af08b07f"
      },
      "source": [
        "print(np.sum(s_i==0))\n",
        "# for i in range(n):\n",
        "#   if si_hat[i] == 0:\n",
        "#     print(s_i[i])\n",
        "print(s_i[0:100])\n",
        "print(d_S[0])\n"
      ],
      "execution_count": 38,
      "outputs": [
        {
          "output_type": "stream",
          "text": [
            "0\n",
            "[15.39239008 11.65702536 10.95670116  0.99991983 13.53463066 11.3086035\n",
            " 10.31800313 15.32889361 15.65980796  4.33381305  3.69298433 13.19333073\n",
            "  6.61604699  9.09558306  0.88754653  8.45877882 18.83697941 13.75337192\n",
            " 16.38810995 12.55049429 11.70216821 19.41709909  9.79427757 15.80603926\n",
            "  4.62821922  2.03922269  3.62653984  6.84608234  9.21365711 17.78774075\n",
            " 11.85251063 12.85220186  7.69898094 13.39239877  8.08231892 12.1613823\n",
            " 10.7162001   6.15813084  1.67204959  2.45207842 11.49811292  1.46222856\n",
            "  9.06111137 17.98121875 11.65278148 19.53325919  5.75761646 12.99826867\n",
            " 18.69509791  6.98808505 10.67161095 16.94356942  6.6266937   0.17907074\n",
            " 19.80451037  8.12245153  2.18949995 14.72054935  6.50118992  3.36913462\n",
            "  2.36981033 13.9514723  19.86524429  7.83829364 15.27477216 13.0848064\n",
            "  8.41923019  0.97867881  8.18857909  0.58531368 19.04483288  8.18776416\n",
            " 11.58480375 18.8146976  11.5204923   3.44657856 19.03227158  3.75879741\n",
            "  2.56292287  7.24902876  8.69701672 19.54745012 11.08109826 16.11681203\n",
            " 15.37967462  8.04452495  1.49298473  2.3946246  19.85434542 17.19890526\n",
            "  6.91436521 16.65560567 17.99734772 18.4679019  17.50411984  3.724398\n",
            " 15.86930093  1.11270315 16.13054092 11.53817396]\n",
            "[0 0 0 0 0 0 0 1 0 0 0 0 0 0 0 0 0 0 1 0 0 0 0 0 0 0 1 0 0 0 0 0 0 0 0 0 0\n",
            " 0 0 1 0 0 0 1 0 0 0 1 0 0 0 0 1 1 0 0 0 0 0 0 0 0 0 0 0 0 1 1 0 1 0 0 0 0\n",
            " 0 0 0 0 0 0 0 0 0 0 1 0 0 0 0 0 0 1 0 0 0 0 2 0 0 0]\n"
          ],
          "name": "stdout"
        }
      ]
    },
    {
      "cell_type": "markdown",
      "metadata": {
        "id": "wW2UUHYVSQFR",
        "colab_type": "text"
      },
      "source": [
        "## 3. Out-of-sample Prediction"
      ]
    },
    {
      "cell_type": "markdown",
      "metadata": {
        "id": "_Wp3qFTT7aGt",
        "colab_type": "text"
      },
      "source": [
        "### 3.1 Nonlinear `cvxopt` problem\n"
      ]
    },
    {
      "cell_type": "markdown",
      "metadata": {
        "id": "6jZZVPQU8aTG",
        "colab_type": "text"
      },
      "source": [
        "**`cvxopt.solvers.cp(F[, G, h[, dims[, A, b[, kktsolver]]]])`**\n",
        "\n",
        "According to documentation of `cvxopt` the problem should be transformed into the following format:\n",
        "$$\n",
        "    \\begin{aligned}\n",
        "        & \\min f_0(x) \\\\\n",
        "        \\text{s.t.} \\\\\n",
        "        & f_k(x) \\leq 0, \\ k = 1,...,m \\ \\ \\ \\ \\ \\textbf{ no such constraints}\\\\\n",
        "        & Gx \\preceq h \\\\\n",
        "        & Ax = b \\ \\ \\ \\ \\ \\textbf{ no such constraints}\n",
        "    \\end{aligned}\n",
        "$$\n",
        "\n",
        "The argument `F` is a function that evaluates the objective and nonlinear constraint functions. It must handle the following calling sequences.\n",
        "\n",
        "- `F()` returns a tuple (`m`, `x0`), where $m$ is the number of nonlinear constraints and $x_0$ is a point in the domain of $f$. `x0` is a dense real matrix of size $(n, 1)$.\n",
        "  - Since we don't have nonlinear constraints, we have $m = 0$\n",
        "\n",
        "- `F(x)`, with `x` a dense real matrix of size $(n, 1)$, returns a tuple `(f, Df)`. `f` is a dense real matrix of size $(m+1, 1)$, with `f[k]` equal to `f_k(x)`. (If `m` is zero, f can also be returned as a number.) `Df` is a dense or sparse real matrix of size $(m + 1, n)$ with `Df[k,:]` equal to the transpose of the gradient $\\nabla f_k(x)$. If `x` is not in the domain of `f`, `F(x)` returns `None` or a tuple `(None, None)`.\n",
        "\n",
        "- `F(x,z)`, with x a dense real matrix of size $(n, 1)$ and `z` a positive dense real matrix of size $(m + 1, 1)$ returns a tuple `(f, Df, H)`. `f` and `Df` are defined as above. `H` is a square dense or sparse real matrix of size $(n, n)$, whose lower triangular part contains the lower triangular part of\n",
        "$$\n",
        "z_0 \\nabla^2f_0(x) + z_1 \\nabla^2f_1(x) + \\cdots +\n",
        "    z_m \\nabla^2f_m(x).\n",
        "$$\n",
        "\n",
        "- If $F$ is called with two arguments, it can be assumed that $x$ is in the domain of $f$.\n",
        "---\n",
        "#### Example:\n",
        "$$ \n",
        "\\begin{align}\n",
        " \\min &- \\sum_{t=1}^{T} \\log x_t\\\\\n",
        " \\text{s.t. } &Ax=b\n",
        "\\end{align}\n",
        "$$\n",
        "where \n",
        "$$\n",
        "\\begin{align}\n",
        "  A &= \n",
        "  \\begin{bmatrix}\n",
        "    1 && 2&& 3\\\\\n",
        "    2 && 3&& 4\n",
        "  \\end{bmatrix} \\\\\n",
        "  b &= \n",
        "  \\begin{bmatrix}\n",
        "    3\\\\5\n",
        "  \\end{bmatrix}\n",
        "\\end{align}\n",
        "$$\n",
        "- When constructing functions `f`, `Df` and `H`, try to use `numpy` first to get the right operation and then convert the result using `matrix` from `cvxopt`."
      ]
    },
    {
      "cell_type": "code",
      "metadata": {
        "id": "TbrXXR4YH5uO",
        "colab_type": "code",
        "colab": {
          "base_uri": "https://localhost:8080/",
          "height": 0
        },
        "outputId": "fd192cfc-113d-45b2-81e0-756777ec3813"
      },
      "source": [
        "from cvxopt import solvers, matrix, spdiag, log\n",
        "def acent(A, b):\n",
        "  m, n = A.size  # m is not the same m in the introduction above\n",
        "  print(m,n)\n",
        "  def F(x=None, z=None):\n",
        "      if x is None: return 0, matrix(1.0, (n,1)) # return 0 because we don't have nonlinear inequalities\n",
        "      if min(x) <= 0.0: return None\n",
        "      f = -sum(log(x))\n",
        "      Df = -(x**-1).T\n",
        "      if z is None: return f, Df\n",
        "      H = spdiag(z[0] * x**-2)\n",
        "      return f, Df, H\n",
        "  # pdb.set_trace()\n",
        "  return solvers.cp(F, A=A, b=b)['x']\n",
        "\n",
        "temp = np.array([[1,2,3],[2,1,4]],dtype=float)\n",
        "A_matrix = matrix(temp,(2,3))\n",
        "print(A_matrix)\n",
        "b_matrix = matrix([3.,2.])\n",
        "res = acent(A_matrix,b_matrix)\n",
        "print('Optimal x is: \\n', res)"
      ],
      "execution_count": 39,
      "outputs": [
        {
          "output_type": "stream",
          "text": [
            "[ 1.00e+00  2.00e+00  3.00e+00]\n",
            "[ 2.00e+00  1.00e+00  4.00e+00]\n",
            "\n",
            "2 3\n",
            "Optimal x is: \n",
            " [ 1.71e-01]\n",
            "[ 1.27e+00]\n",
            "[ 9.74e-02]\n",
            "\n"
          ],
          "name": "stdout"
        }
      ]
    },
    {
      "cell_type": "markdown",
      "metadata": {
        "id": "pK5CcWP52CZF",
        "colab_type": "text"
      },
      "source": [
        "###3.2 Score new articles: OOS prediction for $p$\n"
      ]
    },
    {
      "cell_type": "markdown",
      "metadata": {
        "id": "NBTfvsyOHuoh",
        "colab_type": "text"
      },
      "source": [
        "Let $\\hat{s}$ be the total count of words from $\\hat{S}$ in the new article. Obtain $\\hat{p}$ by:\n",
        "$$\n",
        "\\hat{p} = \\text{arg } \\underset{p\\in (0,1)}{\\max} \\{\\hat{s}^{-1} \\sum_{j=1}^{|\\hat{S}|}d_j \\log(p\\hat{O}_{+,j}+(1-p)\\hat{O}_{-,j})+\\lambda\\log(p(1-p)) \\}\n",
        "$$\n",
        "where $d_j, \\hat{O}_{+,j}$ and $\\hat{O}_{−,j}$ are the $j$th entries of the corresponding vectors, and $\\lambda > 0$ is a tuning parameter.\n",
        "\n",
        "---\n",
        "$$\n",
        "\\begin{align}\n",
        "  \\min & f_0(p) \\\\\n",
        "  \\text{s.t. } & Gp \\leq h\n",
        "\\end{align}\n",
        "$$\n",
        "\n",
        "where we have:\n",
        "$$\n",
        "\\begin{align}\n",
        "  f_0(p) &= -\\hat{s}^{-1} \\sum_{j=1}^{|\\hat{S}|}d_j \\log(p\\hat{O}_{+,j}+(1-p)\\hat{O}_{-,j})-\\lambda\\log(p(1-p)) \\\\\n",
        "  \\nabla f_0 &= -\\hat{s}^{-1} \\sum_{j=1}^{|\\hat{S}|}d_j \\frac{\\hat{O}_{+,j}-\\hat{O}_{-,j}}{p\\hat{O}_{+,j}+(1-p)\\hat{O}_{-,j}} - \\lambda(\\frac{1}{p}-\\frac{1}{1-p}) \\\\ \n",
        "  \\nabla^2 f_0 &= \\hat{s}^{-1} \\sum_{j=1}^{|\\hat{S}|}d_j \\frac{(\\hat{O}_{+,j}-\\hat{O}_{-,j})^2}{(p\\hat{O}_{+,j}+(1-p)\\hat{O}_{-,j})^2} + \\lambda(\\frac{1}{p^2}+\\frac{1}{(1-p)^2})\n",
        "\\end{align}\n",
        "$$\n",
        "where $\\log_{\\odot}$ represents the element-wise log function, and\n",
        "$$\n",
        "\\begin{align}\n",
        "  \\hat{O} &= \\begin{bmatrix}\\hat{O}_+ & \\hat{O}_- \\end{bmatrix}\\\\\n",
        "  G &= \\begin{bmatrix} 1\\\\-1\\end{bmatrix}\\\\\n",
        "  h &= \\begin{bmatrix} 1\\\\ 0\\end{bmatrix}\n",
        "\\end{align}\n",
        "$$"
      ]
    },
    {
      "cell_type": "markdown",
      "metadata": {
        "id": "_X7nF7vw8OzK",
        "colab_type": "text"
      },
      "source": [
        "####3.2.1 Define functions: \n"
      ]
    },
    {
      "cell_type": "markdown",
      "metadata": {
        "id": "gE_52vno9hjH",
        "colab_type": "text"
      },
      "source": [
        "##### MLE estimator "
      ]
    },
    {
      "cell_type": "code",
      "metadata": {
        "id": "6Pl-MKyEbFWg",
        "colab_type": "code",
        "colab": {}
      },
      "source": [
        "def MLE_for_p(s_new, dS_new, O_hat, lambda_value): \n",
        "# s_new is a scalar\n",
        "# dS_new is (|S|,1)\n",
        "# O_hat is (|S|,2)\n",
        "# lambda is a scalar; optimal value found via OOS\n",
        "  s_new = np.array(s_new, dtype=float)\n",
        "  dS_new = np.array(dS_new, dtype=float)\n",
        "  O_hat = np.array(O_hat, dtype=float)\n",
        "  lambda_value = np.array(lambda_value, dtype=float)\n",
        "  dS_new = matrix(dS_new, (len(dS_new),1))  # dS_new is an (|S|,1) vector\n",
        "  O_hat_plus = matrix(O_hat[:,0])\n",
        "  O_hat_minus = matrix(O_hat[:,1])\n",
        "  G_matrix = matrix([1., -1.])\n",
        "  h_matrix = matrix([1.,0.])\n",
        "  num_ineq, len_arg = G_matrix.size  # num_ineq, len_arg represents number of inequalities and length of argument vector\n",
        "  # print(num_ineq, len_arg)\n",
        "  def F(x=None, z=None):\n",
        "      if x is None: return 0, matrix(0.5, (len_arg,1))  # return 0, because m = 0; initial value = .1\n",
        "      if min(x) <= 0.0 or max(x) >=1.0: return None # domain of f is in (0,1)\n",
        "      # print('s_new is {}'.format(s_new),end='|')\n",
        "      # f0 function\n",
        "      f111 = matrix(dS_new) # dS_new is (|S_hat|,1)\n",
        "      f112 = matrix(log(x*O_hat_plus+(1.-x)*O_hat_minus)) # (|S_hat|,1)\n",
        "      f11 = matrix(np.sum(np.multiply(f111,f112)))\n",
        "      f12 = matrix(s_new**-1)\n",
        "      # print('f12',f12)\n",
        "      f1 = -matrix(np.multiply(f11,f12)) # f1 = -1/s_new*sum(f11*f12), scalar\n",
        "      f2 = -matrix(lambda_value*np.log(x*(1.-x)))\n",
        "      f = matrix(f1+f2)\n",
        "      # pdb.set_trace()\n",
        "\n",
        "      # Df 1st order gradient\n",
        "      Df11 = matrix(dS_new)\n",
        "      Df121 = matrix(O_hat_plus - O_hat_minus)\n",
        "      Df122 = matrix(x*O_hat_plus + (1.-x)*O_hat_minus)\n",
        "      Df12 = matrix((np.multiply(Df121,Df122**-1)))\n",
        "      Df1 = -matrix(s_new**-1*np.sum(np.multiply(Df11,Df12)))\n",
        "      Df2 = -matrix(lambda_value*(x**-1-(1.-x)**-1))\n",
        "      Df = matrix(Df1 + Df2)\n",
        "      if z is None: return f, Df\n",
        "\n",
        "      # pdb.set_trace()\n",
        "      # H 2nd order gradient\n",
        "      H11 = matrix(dS_new)\n",
        "      H121 = matrix(O_hat_plus - O_hat_minus)\n",
        "      H122 = matrix(x*O_hat_plus + (1.-x)*O_hat_minus)\n",
        "      H12 = matrix(np.multiply(H121**2,H122**-2))\n",
        "      H1 = matrix(s_new**-1*np.sum(np.multiply(H11,H12)))\n",
        "      H2 = matrix(lambda_value*(x**-2+(1-x)**-2))\n",
        "      H = matrix(H1 + H2)\n",
        "      # pdb.set_trace()\n",
        "      return f, Df, H\n",
        "  return solvers.cp(F, G=G_matrix, h=h_matrix)['x']"
      ],
      "execution_count": 0,
      "outputs": []
    },
    {
      "cell_type": "markdown",
      "metadata": {
        "id": "IKfAArSn9ma7",
        "colab_type": "text"
      },
      "source": [
        "##### Data prep for new articles"
      ]
    },
    {
      "cell_type": "code",
      "metadata": {
        "id": "dT3Fztov2a8P",
        "colab_type": "code",
        "colab": {}
      },
      "source": [
        "def prep_new_articles(article_new):\n",
        "  #1.create word count matrix D_new\n",
        "  D_new = []\n",
        "  for i in range(len(article_new)):\n",
        "    temp = [article_new[i].count(ele) for ele in word_uniq]\n",
        "    D_new = np.concatenate((D_new,temp))\n",
        "  D_new = D_new.reshape(len(article_new),len(word_uniq)) # D_new is the word count matrix with dimension (n_test,m)\n",
        "  #2. construct dS_new\n",
        "  dS_new = []\n",
        "  for i in range(len(article_new)):\n",
        "    temp = [D_new[i][word_uniq.index(ele)] for ele in S_hat] # D_new is (n_test,m)\n",
        "    dS_new = np.concatenate((dS_new,temp))\n",
        "  dS_new = dS_new.reshape((len(article_new),len(S_hat)))\n",
        "  # print(dS_new) # (n_test, |S_hat|)\n",
        "  #3. construct s_new\n",
        "  s_new = [np.sum(dS_new[i]) for i in range(len(article_new))]\n",
        "  s_new = np.array(s_new)\n",
        "  s_new = s_new.reshape((len(article_new),1))\n",
        "  # print(s_new)\n",
        "  return s_new, dS_new"
      ],
      "execution_count": 0,
      "outputs": []
    },
    {
      "cell_type": "markdown",
      "metadata": {
        "id": "ASPIo-GT8zv6",
        "colab_type": "text"
      },
      "source": [
        "####3.2.2 OOS prediction of $p$ for new articles"
      ]
    },
    {
      "cell_type": "code",
      "metadata": {
        "id": "lQkz29XUQl1-",
        "colab_type": "code",
        "colab": {}
      },
      "source": [
        "# 1 Simulate test data\n",
        "n_test = 1000\n",
        "seed_val = 1\n",
        "article_new, y_new, p_new, _ , _ , _ , _ = sim_article(S_norm,m,n_test,s_bar,n_bar,seed_val)\n",
        "# 2 Data prep\n",
        "s_new, dS_new = prep_new_articles(article_new)"
      ],
      "execution_count": 0,
      "outputs": []
    },
    {
      "cell_type": "code",
      "metadata": {
        "id": "Lp-2o8iNyW6z",
        "colab_type": "code",
        "colab": {}
      },
      "source": [
        "#------------------------  Descriptive analysis  ----------------------------#\n",
        "# print(s_new[0:10])\n",
        "# print(dS_new[0:10][:])\n",
        "# for i in range(len(s_new)):\n",
        "#   if s_new[i] == 0:\n",
        "#     print(dS_new[i])\n",
        "# s_i = np.random.uniform(0,2*s_bar,n)\n",
        "# print(np.sum(s_i == 0))\n"
      ],
      "execution_count": 0,
      "outputs": []
    },
    {
      "cell_type": "code",
      "metadata": {
        "id": "eDSzpYpq-D0X",
        "colab_type": "code",
        "colab": {
          "base_uri": "https://localhost:8080/",
          "height": 265
        },
        "outputId": "6930020d-9309-48a3-fc71-fa103159db9c"
      },
      "source": [
        "# 3 MLE estimator for p\n",
        "cvxopt.solvers.options['show_progress'] = False\n",
        "lambda_value = 0.5\n",
        "p_MLE = np.array([])\n",
        "for i in range(len(article_new)): \n",
        "  if s_new[i] != 0:\n",
        "    temp = MLE_for_p(s_new[i], dS_new[i], O_hat, lambda_value)\n",
        "  else:\n",
        "    temp = [[.5]]\n",
        "  temp = np.array(temp)\n",
        "  # print(temp)\n",
        "  p_MLE = np.concatenate((p_MLE,temp[0]))\n",
        "# print(p_MLE)\n",
        "plt.hist(p_MLE)\n",
        "plt.show()\n",
        "# print('x is: \\n {}'.format(p_MLE))"
      ],
      "execution_count": 43,
      "outputs": [
        {
          "output_type": "display_data",
          "data": {
            "image/png": "[encoded data removed]",
            "text/plain": [
              "<Figure size 432x288 with 1 Axes>"
            ]
          },
          "metadata": {
            "tags": [],
            "needs_background": "light"
          }
        }
      ]
    },
    {
      "cell_type": "markdown",
      "metadata": {
        "id": "ncjX1vn6mCzr",
        "colab_type": "text"
      },
      "source": [
        "#### 3.2.3 OOS accuracy"
      ]
    },
    {
      "cell_type": "code",
      "metadata": {
        "id": "_Am-ucv4mLrx",
        "colab_type": "code",
        "colab": {
          "base_uri": "https://localhost:8080/",
          "height": 537
        },
        "outputId": "a3549887-7ed4-446f-fc23-db988bf34fe4"
      },
      "source": [
        "print('-'*30)\n",
        "print('Since p_MLE only controls the *sign*, not the *magnitude* of y, \\n\\\n",
        "we want to see if p_MLE has predictive power over signs of returns.\\n\\\n",
        "Notice that the relative values are of concerned, not the absolute value.\\n\\\n",
        "And this will be reflected in the approaches that we use here.')\n",
        "print('-'*30)\n",
        "\n",
        "#1. create dummy variable dmy_p_new = 1{p>0}\n",
        "dmy_p_pred = np.sign(p_MLE-.5)>0\n",
        "dmy_y_new = np.sign(y_new) >0\n",
        "acc_OOS = np.sum(dmy_p_pred == dmy_y_new)/len(dmy_y_new)\n",
        "print('The OOS accuracy for signs of y is {}'.format(acc_OOS))\n",
        "dmy_p_new = np.sign(p_new - .5) >0\n",
        "acc_OOS_p = np.sum(dmy_p_pred == dmy_p_new)/len(dmy_y_new)\n",
        "print('The OOS accuracy for p_new is {}'.format(acc_OOS_p))\n",
        "plt.scatter(p_new,p_MLE)\n",
        "plt.show()\n",
        "\n",
        "# 2. check OOS predictability: correlation\n",
        "print('Corr(p_MLE, p_new) = \\n {}'.format(np.corrcoef(p_MLE,p_new)[0][1]))\n",
        "print('Corr(dmy_p_pred, dmy_p_new) = \\n {}'.format(np.corrcoef(dmy_p_pred,dmy_p_new)[0][1]))\n",
        "print('Corr(dmy_p_pred, dmy_y_new) = \\n {}'.format(np.corrcoef(dmy_p_pred,dmy_y_new)[0][1]))\n",
        "\n",
        "# 3. Spearman's rank correlation coefficient\n",
        "spmr_OS = stats.spearmanr(p_MLE,p_new)\n",
        "print('Spearman rank correlation btw (p_MLE,p_new) is: \\n{}'.format(spmr_OS))\n"
      ],
      "execution_count": 44,
      "outputs": [
        {
          "output_type": "stream",
          "text": [
            "------------------------------\n",
            "Since p_MLE only controls the *sign*, not the *magnitude* of y, \n",
            "we want to see if p_MLE has predictive power over signs of returns.\n",
            "Notice that the relative values are of concerned, not the absolute value.\n",
            "And this will be reflected in the approaches that we use here.\n",
            "------------------------------\n",
            "The OOS accuracy for signs of y is 0.708\n",
            "The OOS accuracy for p_new is 0.809\n"
          ],
          "name": "stdout"
        },
        {
          "output_type": "display_data",
          "data": {
            "image/png": "[encoded data removed]",
            "text/plain": [
              "<Figure size 432x288 with 1 Axes>"
            ]
          },
          "metadata": {
            "tags": [],
            "needs_background": "light"
          }
        },
        {
          "output_type": "stream",
          "text": [
            "Corr(p_MLE, p_new) = \n",
            " 0.7604176970730552\n",
            "Corr(dmy_p_pred, dmy_p_new) = \n",
            " 0.6196413514856266\n",
            "Corr(dmy_p_pred, dmy_y_new) = \n",
            " 0.4181513909828524\n",
            "Spearman rank correlation btw (p_MLE,p_new) is: \n",
            "SpearmanrResult(correlation=0.7630583054241832, pvalue=2.2520167513137738e-191)\n"
          ],
          "name": "stdout"
        }
      ]
    },
    {
      "cell_type": "code",
      "metadata": {
        "id": "CdrL4HUW32s_",
        "colab_type": "code",
        "colab": {}
      },
      "source": [
        "#------------------------  Descriptive analysis  ----------------------------#\n"
      ],
      "execution_count": 0,
      "outputs": []
    },
    {
      "cell_type": "markdown",
      "metadata": {
        "colab_type": "text",
        "id": "M--E8cPVHYfz"
      },
      "source": [
        "####3.2.4 IS prediction of $p$ for training articles"
      ]
    },
    {
      "cell_type": "code",
      "metadata": {
        "colab_type": "code",
        "id": "dEDCN25FHYf2",
        "colab": {}
      },
      "source": [
        "# 1 IS test data\n",
        "n_IS = 1000\n",
        "article_IS = article[0:n_IS]\n",
        "y_IS = y_i[0:n_IS]\n",
        "p_IS = p_i[0:n_IS]\n",
        "# 2 Data prep\n",
        "s_IS, dS_IS = prep_new_articles(article_IS)\n"
      ],
      "execution_count": 0,
      "outputs": []
    },
    {
      "cell_type": "code",
      "metadata": {
        "colab_type": "code",
        "id": "1PiEcOVeHYf6",
        "colab": {}
      },
      "source": [
        "#------------------------  Descriptive analysis  ----------------------------#\n",
        "# print(s_IS[0:10])\n",
        "# print(dS_IS[0:10][:])\n",
        "# for i in range(len(s_IS)):\n",
        "#   if s_IS[i] == 0:\n",
        "#     print(dS_IS[i])\n",
        "# s_i = np.random.uniform(0,2*s_bar,n)\n",
        "# print(np.sum(s_i == 0))\n"
      ],
      "execution_count": 0,
      "outputs": []
    },
    {
      "cell_type": "code",
      "metadata": {
        "colab_type": "code",
        "id": "c1AEx8SKHYf8",
        "colab": {
          "base_uri": "https://localhost:8080/",
          "height": 266
        },
        "outputId": "c2e27487-4dbf-4763-e922-ffc71f76d55d"
      },
      "source": [
        "# 3 MLE estimator for p\n",
        "cvxopt.solvers.options['show_progress'] = False\n",
        "lambda_value = 0.5\n",
        "p_MLE_IS = np.array([])\n",
        "for i in range(len(article_IS)): \n",
        "  if s_IS[i] != 0:\n",
        "    temp = MLE_for_p(s_IS[i], dS_IS[i], O_hat, lambda_value)\n",
        "  else:\n",
        "    temp = [[.5]]\n",
        "  temp = np.array(temp)\n",
        "  # print(temp)\n",
        "  p_MLE_IS = np.concatenate((p_MLE_IS,temp[0]))\n",
        "# print(p_MLE_IS)\n",
        "plt.hist(p_MLE_IS)\n",
        "plt.show()\n",
        "# print('x is: \\n {}'.format(p_MLE_IS))"
      ],
      "execution_count": 46,
      "outputs": [
        {
          "output_type": "display_data",
          "data": {
            "image/png": "[encoded data removed]",
            "text/plain": [
              "<Figure size 432x288 with 1 Axes>"
            ]
          },
          "metadata": {
            "tags": [],
            "needs_background": "light"
          }
        }
      ]
    },
    {
      "cell_type": "markdown",
      "metadata": {
        "id": "3B_OyWM2GqcS",
        "colab_type": "text"
      },
      "source": [
        "#### 3.2.3 IS accuracy"
      ]
    },
    {
      "cell_type": "code",
      "metadata": {
        "id": "Mle3edfKH2QU",
        "colab_type": "code",
        "colab": {
          "base_uri": "https://localhost:8080/",
          "height": 435
        },
        "outputId": "f289018b-c044-4967-d2ab-fc469652a58d"
      },
      "source": [
        "#1. create dummy variable dmy_p_new = 1{p>0}\n",
        "dmy_p_pred_IS = np.sign(p_MLE_IS-.5)>0\n",
        "dmy_y_IS = np.sign(y_IS) >0\n",
        "acc_IS = np.sum(dmy_p_pred_IS == dmy_y_IS)/len(dmy_y_IS)\n",
        "print('The IS accuracy for signs of y is {}'.format(acc_IS))\n",
        "dmy_p_IS = np.sign(p_IS - .5) >0\n",
        "acc_IS_p = np.sum(dmy_p_pred_IS == dmy_p_IS)/len(dmy_y_IS)\n",
        "print('The IS accuracy for p_new is {}'.format(acc_IS_p))\n",
        "plt.scatter(p_IS,p_MLE_IS)\n",
        "plt.show()\n",
        "\n",
        "# 2. check OOS predictability: correlation\n",
        "print('Corr(p_MLE, p_new) = \\n {}'.format(np.corrcoef(p_MLE_IS,p_IS)[0][1]))\n",
        "print('Corr(dmy_p_pred_IS, dmy_p_IS) = \\n {}'.format(np.corrcoef(dmy_p_pred_IS,dmy_p_IS)[0][1]))\n",
        "print('Corr(dmy_p_pred_IS, dmy_y_IS) = \\n {}'.format(np.corrcoef(dmy_p_pred_IS,dmy_y_IS)[0][1]))\n",
        "\n",
        "# 3. Spearman's rank correlation coefficient\n",
        "spmr_IS = stats.spearmanr(p_MLE_IS,p_IS)\n",
        "print('Spearman rank correlation btw (p_MLE_IS,p_IS) is: \\n{}'.format(spmr_IS))"
      ],
      "execution_count": 47,
      "outputs": [
        {
          "output_type": "stream",
          "text": [
            "The IS accuracy for signs of y is 0.72\n",
            "The IS accuracy for p_new is 0.816\n"
          ],
          "name": "stdout"
        },
        {
          "output_type": "display_data",
          "data": {
            "image/png": "[encoded data removed]",
            "text/plain": [
              "<Figure size 432x288 with 1 Axes>"
            ]
          },
          "metadata": {
            "tags": [],
            "needs_background": "light"
          }
        },
        {
          "output_type": "stream",
          "text": [
            "Corr(p_MLE, p_new) = \n",
            " 0.7948001076714046\n",
            "Corr(dmy_p_pred_IS, dmy_p_IS) = \n",
            " 0.6324649203676812\n",
            "Corr(dmy_p_pred_IS, dmy_y_IS) = \n",
            " 0.44154723689083153\n",
            "Spearman rank correlation btw (p_MLE_IS,p_IS) is: \n",
            "SpearmanrResult(correlation=0.7968647906755041, pvalue=1.2264048913295018e-220)\n"
          ],
          "name": "stdout"
        }
      ]
    },
    {
      "cell_type": "code",
      "metadata": {
        "id": "PrAnTpn7atLJ",
        "colab_type": "code",
        "colab": {
          "base_uri": "https://localhost:8080/",
          "height": 316
        },
        "outputId": "171a6d5c-e339-4f06-a757-2daa52aebd1f"
      },
      "source": [
        "# Debug: IS and new have different p_IS vs. p_new\n",
        "plt.scatter(p_new,p_IS)\n",
        "plt.show()\n",
        "# print(dS_new[0:10])\n",
        "# print(dS_IS[0:10])\n",
        "print(np.sum(dS_new[0:10]!=dS_IS[0:10]))\n",
        "print(np.sum(s_new!=s_IS))\n",
        "print(np.sum(p_new!=p_IS))\n",
        "\n"
      ],
      "execution_count": 48,
      "outputs": [
        {
          "output_type": "display_data",
          "data": {
            "image/png": "[encoded data removed]",
            "text/plain": [
              "<Figure size 432x288 with 1 Axes>"
            ]
          },
          "metadata": {
            "tags": [],
            "needs_background": "light"
          }
        },
        {
          "output_type": "stream",
          "text": [
            "165\n",
            "950\n",
            "1000\n"
          ],
          "name": "stdout"
        }
      ]
    }
  ]
}